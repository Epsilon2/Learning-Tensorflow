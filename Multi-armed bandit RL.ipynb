{
 "cells": [
  {
   "cell_type": "markdown",
   "metadata": {},
   "source": [
    "Partially based on this tutorial: https://medium.com/@awjuliani/super-simple-reinforcement-learning-tutorial-part-1-fd544fab149"
   ]
  },
  {
   "cell_type": "code",
   "execution_count": 2,
   "metadata": {
    "collapsed": true
   },
   "outputs": [],
   "source": [
    "import tensorflow as tf\n",
    "import numpy as np"
   ]
  },
  {
   "cell_type": "code",
   "execution_count": 56,
   "metadata": {
    "collapsed": true
   },
   "outputs": [],
   "source": [
    "n = 5\n",
    "\n",
    "def pullBandit(i,p):\n",
    "    #return 1 with probability p, 0 otherwise\n",
    "    if np.random.rand(1) < p[i]:\n",
    "        return 1\n",
    "    else:\n",
    "        return -1"
   ]
  },
  {
   "cell_type": "code",
   "execution_count": 13,
   "metadata": {
    "collapsed": true
   },
   "outputs": [],
   "source": [
    "tf.reset_default_graph()\n",
    "\n",
    "#Feed-forward part of the network\n",
    "weights = tf.Variable(tf.ones([n]))\n",
    "chosen_action = tf.argmax(weights,0)\n",
    "\n",
    "#training procedure\n",
    "reward_holder = tf.placeholder(shape=[1],dtype=tf.float32)\n",
    "action_holder = tf.placeholder(shape=[1],dtype=tf.int32)\n",
    "responsible_weight = tf.slice(weights,action_holder,[1])\n",
    "loss = -(tf.log(responsible_weight)*reward_holder)\n",
    "optimizer = tf.train.GradientDescentOptimizer(learning_rate=0.001)\n",
    "update = optimizer.minimize(loss)"
   ]
  },
  {
   "cell_type": "code",
   "execution_count": 67,
   "metadata": {},
   "outputs": [],
   "source": [
    "n_episodes = 1000\n",
    "total_reward = np.zeros(n)\n",
    "epsilon = 0.1\n",
    "\n",
    "def main(epsilon, n_runs):\n",
    "    n_correct = 0\n",
    "    for j in range(n_runs):\n",
    "        #Probabilities that any given bandit yield a reward\n",
    "        p = np.random.rand(n)\n",
    "        init = tf.global_variables_initializer();\n",
    "        with tf.Session() as sess:\n",
    "            sess.run(init)\n",
    "            i = 0\n",
    "            while i < n_episodes:\n",
    "                #Choose either a random action or one from our network.\n",
    "                if np.random.rand(1) < epsilon(i):\n",
    "                    action = np.random.randint(n)\n",
    "                else:\n",
    "                    action = sess.run(chosen_action)\n",
    "\n",
    "                reward = pullBandit(action,p)\n",
    "\n",
    "                #Update the network.\n",
    "                _,resp,ww = sess.run([update,responsible_weight,weights], \n",
    "                                     feed_dict={reward_holder:[reward],\n",
    "                                                action_holder:[action]})\n",
    "\n",
    "                #Update our running tally of scores.\n",
    "                total_reward[action] += reward\n",
    "                i+=1\n",
    "        if np.argmax(ww) == np.argmax(np.array(p)):\n",
    "            n_correct+=1\n",
    "    print(\"The agent identifies the correct bandit in \" + str(n_correct) +\" out of \"+str(n_runs)+\" runs\")"
   ]
  },
  {
   "cell_type": "code",
   "execution_count": 73,
   "metadata": {},
   "outputs": [
    {
     "name": "stdout",
     "output_type": "stream",
     "text": [
      "The naive approach with a constant epsilon leads to fairly bad results:\n",
      "The agent identifies the correct bandit in 61 out of 100 runs\n",
      "With a larger epsilon and decrease over time:\n",
      "The agent identifies the correct bandit in 63 out of 100 runs\n"
     ]
    }
   ],
   "source": [
    "#Calling main with this uses a constant epsilon (the most naive approach)\n",
    "def const_epsilon(i):\n",
    "    return 0.1\n",
    "\n",
    "print(\"The naive approach with a constant epsilon leads to fairly bad results:\")\n",
    "main(const_epsilon,100)\n",
    "      \n",
    "def decaying_epsilon(i):\n",
    "    initial_eps = 0.5\n",
    "    lam = 0.005\n",
    "    return initial_eps*np.exp(-lam*i)\n",
    "      \n",
    "print(\"With a larger epsilon and decrease over time:\")\n",
    "main(decaying_epsilon,100)"
   ]
  },
  {
   "cell_type": "markdown",
   "metadata": {},
   "source": [
    "Takeaway: This doesn't seem to help much. Simple gradient descent presumably isn't good at handling the exploration/exploitation tradeoff."
   ]
  }
 ],
 "metadata": {
  "kernelspec": {
   "display_name": "Python 3",
   "language": "python",
   "name": "python3"
  },
  "language_info": {
   "codemirror_mode": {
    "name": "ipython",
    "version": 3
   },
   "file_extension": ".py",
   "mimetype": "text/x-python",
   "name": "python",
   "nbconvert_exporter": "python",
   "pygments_lexer": "ipython3",
   "version": "3.5.3"
  }
 },
 "nbformat": 4,
 "nbformat_minor": 2
}
