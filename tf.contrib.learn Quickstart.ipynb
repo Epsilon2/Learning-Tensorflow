{
 "cells": [
  {
   "cell_type": "markdown",
   "metadata": {},
   "source": [
    "Link: https://www.tensorflow.org/get_started/tflearn"
   ]
  },
  {
   "cell_type": "code",
   "execution_count": 14,
   "metadata": {},
   "outputs": [],
   "source": [
    "#Importing the training and test set\n",
    "from __future__ import absolute_import\n",
    "from __future__ import division\n",
    "from __future__ import print_function\n",
    "\n",
    "import os\n",
    "import urllib\n",
    "import urllib.request\n",
    "\n",
    "import tensorflow as tf\n",
    "import numpy as np\n",
    "\n",
    "IRIS_TRAINING = \"iris_training.csv\"\n",
    "IRIS_TRAINING_URL = \"http://download.tensorflow.org/data/iris_training.csv\"\n",
    "\n",
    "IRIS_TEST = \"iris_test.csv\"\n",
    "IRIS_TEST_URL = \"http://download.tensorflow.org/data/iris_test.csv\"\n",
    "\n",
    "if not os.path.exists(IRIS_TRAINING):\n",
    "    raw = urllib.request.urlopen(IRIS_TRAINING_URL).read().decode()\n",
    "    with open(IRIS_TRAINING,'w') as f:\n",
    "        f.write(raw)\n",
    "\n",
    "if not os.path.exists(IRIS_TEST):\n",
    "    raw = urllib.request.urlopen(IRIS_TEST_URL).read().decode()\n",
    "    with open(IRIS_TEST,'w') as f:\n",
    "        f.write(raw)"
   ]
  },
  {
   "cell_type": "markdown",
   "metadata": {},
   "source": [
    "To make this work, I had to change urllib.urlopen to urllib.request.urlopen because I use Python3. https://stackoverflow.com/questions/39975367/attributeerror-module-urllib-has-no-attribute-urlopen \n",
    "\n",
    "Also added .decode() according to https://stackoverflow.com/questions/43783954/tf-contrib-learn-load-csv-with-header-not-working-in-tensorflow-1-1"
   ]
  },
  {
   "cell_type": "code",
   "execution_count": 15,
   "metadata": {},
   "outputs": [],
   "source": [
    "#Load Datasets\n",
    "training_set = tf.contrib.learn.datasets.base.load_csv_with_header(\n",
    "    filename=IRIS_TRAINING,\n",
    "    target_dtype=np.int,\n",
    "    features_dtype=np.float32)\n",
    "test_set = tf.contrib.learn.datasets.base.load_csv_with_header(\n",
    "    filename=IRIS_TEST,\n",
    "    target_dtype=np.int,\n",
    "    features_dtype=np.float32)"
   ]
  },
  {
   "cell_type": "markdown",
   "metadata": {},
   "source": [
    " tf.contrib.learn has many predefined models, called **estimators**. Here we use a DNN classifier."
   ]
  },
  {
   "cell_type": "code",
   "execution_count": 16,
   "metadata": {
    "collapsed": true
   },
   "outputs": [
    {
     "name": "stdout",
     "output_type": "stream",
     "text": [
      "INFO:tensorflow:Using default config.\n",
      "INFO:tensorflow:Using config: {'_task_type': None, '_tf_random_seed': None, '_task_id': 0, '_save_checkpoints_steps': None, '_master': '', '_evaluation_master': '', '_environment': 'local', '_save_summary_steps': 100, '_model_dir': '/tmp/iris_model', '_tf_config': gpu_options {\n",
      "  per_process_gpu_memory_fraction: 1\n",
      "}\n",
      ", '_num_worker_replicas': 0, '_save_checkpoints_secs': 600, '_keep_checkpoint_every_n_hours': 10000, '_cluster_spec': <tensorflow.python.training.server_lib.ClusterSpec object at 0x000000000A368C50>, '_keep_checkpoint_max': 5, '_num_ps_replicas': 0, '_session_config': None, '_is_chief': True}\n"
     ]
    }
   ],
   "source": [
    "# Specify that all features have real-value data (of dimension 4)\n",
    "feature_columns = [tf.contrib.layers.real_valued_column(\"\", dimension=4)]\n",
    "\n",
    "# Build 3 layer DNN with 10, 20, 10 units respectively.\n",
    "classifier = tf.contrib.learn.DNNClassifier(feature_columns=feature_columns,\n",
    "                                            hidden_units=[10, 20, 10],\n",
    "                                            n_classes=3,\n",
    "                                            model_dir=\"/tmp/iris_model\")"
   ]
  },
  {
   "cell_type": "code",
   "execution_count": 17,
   "metadata": {
    "collapsed": true
   },
   "outputs": [],
   "source": [
    "#Input pipeline\n",
    "def get_train_inputs():\n",
    "    x = tf.constant(training_set.data)\n",
    "    y = tf.constant(training_set.target)\n",
    "    return x, y"
   ]
  },
  {
   "cell_type": "code",
   "execution_count": 18,
   "metadata": {
    "collapsed": true
   },
   "outputs": [
    {
     "name": "stdout",
     "output_type": "stream",
     "text": [
      "WARNING:tensorflow:From C:\\Users\\Tobias\\Anaconda3\\envs\\tensorflow\\lib\\site-packages\\tensorflow\\contrib\\learn\\python\\learn\\estimators\\head.py:625: scalar_summary (from tensorflow.python.ops.logging_ops) is deprecated and will be removed after 2016-11-30.\n",
      "Instructions for updating:\n",
      "Please switch to tf.summary.scalar. Note that tf.summary.scalar uses the node name instead of the tag. This means that TensorFlow will automatically de-duplicate summary names based on the scope they are created in. Also, passing a tensor or list of tags to a scalar summary op is no longer supported.\n",
      "INFO:tensorflow:Create CheckpointSaverHook.\n",
      "INFO:tensorflow:Saving checkpoints for 1 into /tmp/iris_model\\model.ckpt.\n",
      "INFO:tensorflow:step = 1, loss = 1.53682\n",
      "INFO:tensorflow:global_step/sec: 1201.92\n",
      "INFO:tensorflow:step = 101, loss = 0.157632 (0.086 sec)\n",
      "INFO:tensorflow:global_step/sec: 1366.12\n",
      "INFO:tensorflow:step = 201, loss = 0.0824196 (0.072 sec)\n",
      "INFO:tensorflow:global_step/sec: 1424.5\n",
      "INFO:tensorflow:step = 301, loss = 0.0679037 (0.071 sec)\n",
      "INFO:tensorflow:global_step/sec: 1538.46\n",
      "INFO:tensorflow:step = 401, loss = 0.0619661 (0.065 sec)\n",
      "INFO:tensorflow:global_step/sec: 1492.54\n",
      "INFO:tensorflow:step = 501, loss = 0.0585318 (0.068 sec)\n",
      "INFO:tensorflow:global_step/sec: 1408.45\n",
      "INFO:tensorflow:step = 601, loss = 0.05584 (0.070 sec)\n",
      "INFO:tensorflow:global_step/sec: 1470.59\n",
      "INFO:tensorflow:step = 701, loss = 0.0539832 (0.069 sec)\n",
      "INFO:tensorflow:global_step/sec: 1449.28\n",
      "INFO:tensorflow:step = 801, loss = 0.0524919 (0.069 sec)\n",
      "INFO:tensorflow:global_step/sec: 1416.43\n",
      "INFO:tensorflow:step = 901, loss = 0.0510339 (0.070 sec)\n",
      "INFO:tensorflow:global_step/sec: 1470.59\n",
      "INFO:tensorflow:step = 1001, loss = 0.0499772 (0.069 sec)\n",
      "INFO:tensorflow:global_step/sec: 1449.28\n",
      "INFO:tensorflow:step = 1101, loss = 0.0487816 (0.069 sec)\n",
      "INFO:tensorflow:global_step/sec: 1351.35\n",
      "INFO:tensorflow:step = 1201, loss = 0.0478338 (0.073 sec)\n",
      "INFO:tensorflow:global_step/sec: 1428.57\n",
      "INFO:tensorflow:step = 1301, loss = 0.046913 (0.070 sec)\n",
      "INFO:tensorflow:global_step/sec: 1633.99\n",
      "INFO:tensorflow:step = 1401, loss = 0.0460059 (0.062 sec)\n",
      "INFO:tensorflow:global_step/sec: 1388.89\n",
      "INFO:tensorflow:step = 1501, loss = 0.0452365 (0.071 sec)\n",
      "INFO:tensorflow:global_step/sec: 1492.53\n",
      "INFO:tensorflow:step = 1601, loss = 0.0444546 (0.067 sec)\n",
      "INFO:tensorflow:global_step/sec: 1492.54\n",
      "INFO:tensorflow:step = 1701, loss = 0.0437232 (0.069 sec)\n",
      "INFO:tensorflow:global_step/sec: 1479.29\n",
      "INFO:tensorflow:step = 1801, loss = 0.0430743 (0.063 sec)\n",
      "INFO:tensorflow:global_step/sec: 1269.04\n",
      "INFO:tensorflow:step = 1901, loss = 0.042369 (0.083 sec)\n",
      "INFO:tensorflow:Saving checkpoints for 2000 into /tmp/iris_model\\model.ckpt.\n",
      "INFO:tensorflow:Loss for final step: 0.0418742.\n"
     ]
    },
    {
     "data": {
      "text/plain": [
       "DNNClassifier(params={'feature_columns': (_RealValuedColumn(column_name='', dimension=4, default_value=None, dtype=tf.float32, normalizer=None),), 'hidden_units': [10, 20, 10], 'activation_fn': <function relu at 0x00000000076187B8>, 'gradient_clip_norm': None, 'input_layer_min_slice_size': None, 'head': <tensorflow.contrib.learn.python.learn.estimators.head._MultiClassHead object at 0x000000000A3687F0>, 'dropout': None, 'embedding_lr_multipliers': None, 'optimizer': None})"
      ]
     },
     "execution_count": 18,
     "metadata": {},
     "output_type": "execute_result"
    }
   ],
   "source": [
    "#Fitting the classifier\n",
    "classifier.fit(input_fn=get_train_inputs, steps = 2000)"
   ]
  },
  {
   "cell_type": "code",
   "execution_count": 19,
   "metadata": {},
   "outputs": [
    {
     "name": "stdout",
     "output_type": "stream",
     "text": [
      "WARNING:tensorflow:From C:\\Users\\Tobias\\Anaconda3\\envs\\tensorflow\\lib\\site-packages\\tensorflow\\contrib\\learn\\python\\learn\\estimators\\head.py:625: scalar_summary (from tensorflow.python.ops.logging_ops) is deprecated and will be removed after 2016-11-30.\n",
      "Instructions for updating:\n",
      "Please switch to tf.summary.scalar. Note that tf.summary.scalar uses the node name instead of the tag. This means that TensorFlow will automatically de-duplicate summary names based on the scope they are created in. Also, passing a tensor or list of tags to a scalar summary op is no longer supported.\n",
      "INFO:tensorflow:Starting evaluation at 2017-06-30-15:10:49\n",
      "INFO:tensorflow:Restoring parameters from /tmp/iris_model\\model.ckpt-2000\n",
      "INFO:tensorflow:Evaluation [1/1]\n",
      "INFO:tensorflow:Finished evaluation at 2017-06-30-15:10:50\n",
      "INFO:tensorflow:Saving dict for global step 2000: accuracy = 0.966667, global_step = 2000, loss = 0.0706575\n",
      "\n",
      "Test Accuracy: 0.966667\n",
      "\n"
     ]
    }
   ],
   "source": [
    "#Getting test inputs\n",
    "def get_test_inputs():\n",
    "    x = tf.constant(test_set.data)\n",
    "    y = tf.constant(test_set.target)\n",
    "    return x, y\n",
    "#Evaluate accuracy\n",
    "accuracy_score = classifier.evaluate(input_fn=get_test_inputs,\n",
    "                                     steps=1)[\"accuracy\"]\n",
    "\n",
    "print(\"\\nTest Accuracy: {0:f}\\n\".format(accuracy_score))"
   ]
  },
  {
   "cell_type": "code",
   "execution_count": 23,
   "metadata": {},
   "outputs": [
    {
     "name": "stdout",
     "output_type": "stream",
     "text": [
      "WARNING:tensorflow:From C:\\Users\\Tobias\\Anaconda3\\envs\\tensorflow\\lib\\site-packages\\tensorflow\\python\\util\\deprecation.py:347: calling DNNClassifier.predict (from tensorflow.contrib.learn.python.learn.estimators.dnn) with outputs=None is deprecated and will be removed after 2017-03-01.\n",
      "Instructions for updating:\n",
      "Please switch to predict_classes, or set `outputs` argument.\n",
      "INFO:tensorflow:Restoring parameters from /tmp/iris_model\\model.ckpt-2000\n",
      "New Samples, Class Predictions:    [1, 2]\n",
      "\n",
      "INFO:tensorflow:Restoring parameters from /tmp/iris_model\\model.ckpt-2000\n",
      "[array([  1.14029826e-05,   9.99914169e-01,   7.43451528e-05], dtype=float32), array([  2.06771772e-04,   3.41850191e-01,   6.57943070e-01], dtype=float32)]\n"
     ]
    }
   ],
   "source": [
    "# Classify two new flower samples.\n",
    "def new_samples():\n",
    "    return np.array(\n",
    "    [[6.4, 3.2, 4.5, 1.5],\n",
    "     [5.8, 3.1, 5.0, 1.7]], dtype=np.float32)\n",
    "\n",
    "predictions = list(classifier.predict(input_fn=new_samples))\n",
    "\n",
    "print(\n",
    "    \"New Samples, Class Predictions:    {}\\n\"\n",
    "    .format(predictions))\n",
    "\n",
    "#Getting confidence levels\n",
    "probabilities = list(classifier.predict_proba(input_fn=new_samples))\n",
    "\n",
    "print(probabilities)"
   ]
  }
 ],
 "metadata": {
  "kernelspec": {
   "display_name": "Python 3",
   "language": "python",
   "name": "python3"
  },
  "language_info": {
   "codemirror_mode": {
    "name": "ipython",
    "version": 3
   },
   "file_extension": ".py",
   "mimetype": "text/x-python",
   "name": "python",
   "nbconvert_exporter": "python",
   "pygments_lexer": "ipython3",
   "version": "3.5.3"
  }
 },
 "nbformat": 4,
 "nbformat_minor": 2
}
